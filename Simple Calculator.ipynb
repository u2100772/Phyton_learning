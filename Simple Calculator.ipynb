{
 "cells": [
  {
   "cell_type": "code",
   "execution_count": 10,
   "id": "1a26e102",
   "metadata": {},
   "outputs": [
    {
     "name": "stdout",
     "output_type": "stream",
     "text": [
      "Enter the first number: 213\n",
      "Enter the operator (+, -, *, /): /\n",
      "Enter the second number: 3\n",
      "Result: 71.0\n"
     ]
    }
   ],
   "source": [
    "def simple_calculator():\n",
    "    while True:\n",
    "        try:\n",
    "            num1 = float(input(\"Enter the first number: \"))\n",
    "            operator = input(\"Enter the operator (+, -, *, /): \")\n",
    "            num2 = float(input(\"Enter the second number: \"))\n",
    "            \n",
    "            if operator not in ['+', '-', '*', '/']:\n",
    "                raise ValueError(\"Invalid operator. Please enter +, -, *, or /.\")\n",
    "\n",
    "            if operator == '/' and num2 == 0:\n",
    "                raise ZeroDivisionError(\"Division by zero is not allowed.\")\n",
    "\n",
    "            result = 0\n",
    "            if operator == '+':\n",
    "                result = num1 + num2\n",
    "            elif operator == '-':\n",
    "                result = num1 - num2\n",
    "            elif operator == '*':\n",
    "                result = num1 * num2\n",
    "            elif operator == '/':\n",
    "                result = num1 / num2\n",
    "\n",
    "            print(f\"Result: {result}\")\n",
    "            break  \n",
    "\n",
    "        except ValueError as ve:\n",
    "            print(f\"Error: {ve}. Please enter a valid number.\")\n",
    "        except ZeroDivisionError as zde:\n",
    "            print(f\"Error: {zde}. Can not divide by zero.\")\n",
    "        except Exception as e:\n",
    "            print(f\"An unexpected error occurred: {e}. Please try again.\")\n",
    "\n",
    "\n",
    "simple_calculator()\n"
   ]
  },
  {
   "cell_type": "code",
   "execution_count": null,
   "id": "052a2700",
   "metadata": {},
   "outputs": [],
   "source": []
  }
 ],
 "metadata": {
  "kernelspec": {
   "display_name": "Python 3 (ipykernel)",
   "language": "python",
   "name": "python3"
  },
  "language_info": {
   "codemirror_mode": {
    "name": "ipython",
    "version": 3
   },
   "file_extension": ".py",
   "mimetype": "text/x-python",
   "name": "python",
   "nbconvert_exporter": "python",
   "pygments_lexer": "ipython3",
   "version": "3.11.5"
  }
 },
 "nbformat": 4,
 "nbformat_minor": 5
}
